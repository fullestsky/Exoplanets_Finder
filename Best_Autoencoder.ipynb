{
  "nbformat": 4,
  "nbformat_minor": 0,
  "metadata": {
    "colab": {
      "provenance": []
    },
    "kernelspec": {
      "name": "python3",
      "display_name": "Python 3"
    },
    "language_info": {
      "name": "python"
    }
  },
  "cells": [
    {
      "cell_type": "markdown",
      "source": [
        "# Exoplanet detection with merged datasets"
      ],
      "metadata": {
        "id": "n3Qurrr8h85p"
      }
    },
    {
      "cell_type": "markdown",
      "source": [
        "**1. Merge exoTest and exoTrain, scale and balance using SMOTE**"
      ],
      "metadata": {
        "id": "hvuipHAAiE5B"
      }
    },
    {
      "cell_type": "code",
      "execution_count": 1,
      "metadata": {
        "colab": {
          "base_uri": "https://localhost:8080/"
        },
        "id": "86D8PYKrh6j7",
        "outputId": "824a8f5b-b2c5-46aa-bc14-37225f6c1243"
      },
      "outputs": [
        {
          "output_type": "stream",
          "name": "stdout",
          "text": [
            "Merged dataset saved as exoplanets.csv.\n",
            "Balanced dataset saved as exoplanets_balanced.csv.\n"
          ]
        }
      ],
      "source": [
        "import pandas as pd\n",
        "from sklearn.preprocessing import StandardScaler\n",
        "from imblearn.over_sampling import SMOTE\n",
        "\n",
        "# Load CSV files\n",
        "exo_train = pd.read_csv(\"exoTrain.csv\")\n",
        "exo_test = pd.read_csv(\"exoTest.csv\")\n",
        "\n",
        "# Merge both datasets\n",
        "exoplanets = pd.concat([exo_train, exo_test], ignore_index=True)\n",
        "\n",
        "# Save merged dataset\n",
        "exoplanets.to_csv(\"exoplanets.csv\", index=False)\n",
        "print(\"Merged dataset saved as exoplanets.csv.\")\n",
        "\n",
        "# Separate features and target\n",
        "X = exoplanets.iloc[:, 1:]\n",
        "y = exoplanets.iloc[:, 0]\n",
        "\n",
        "# Scale the features\n",
        "scaler = StandardScaler()\n",
        "X_scaled = scaler.fit_transform(X)\n",
        "\n",
        "# Balance the dataset using SMOTE\n",
        "smote = SMOTE(random_state=42)\n",
        "X_resampled, y_resampled = smote.fit_resample(X_scaled, y)\n",
        "\n",
        "# Convert back to DataFrame\n",
        "balanced_exoplanets = pd.DataFrame(X_resampled, columns=exoplanets.columns[1:])\n",
        "balanced_exoplanets.insert(0, exoplanets.columns[0], y_resampled)  # Reinsert target column\n",
        "\n",
        "# Save the balanced dataset\n",
        "balanced_exoplanets.to_csv(\"exoplanets_balanced.csv\", index=False)\n",
        "print(\"Balanced dataset saved as exoplanets_balanced.csv.\")\n"
      ]
    },
    {
      "cell_type": "markdown",
      "source": [
        "Visualising Balance"
      ],
      "metadata": {
        "id": "IEU_ziaIjbRl"
      }
    },
    {
      "cell_type": "code",
      "source": [
        "import matplotlib.pyplot as plt\n",
        "# Visualize class distribution after SMOTE\n",
        "plt.figure(figsize=(6, 4))\n",
        "pd.Series(y_resampled).value_counts().plot(kind='bar')\n",
        "plt.xlabel(\"Class Label\")\n",
        "plt.ylabel(\"Count\")\n",
        "plt.title(\"Class Distribution After SMOTE\")\n",
        "plt.grid(axis='y', linestyle='--', alpha=0.7)\n",
        "plt.show()"
      ],
      "metadata": {
        "colab": {
          "base_uri": "https://localhost:8080/",
          "height": 405
        },
        "id": "A3wHGDgCjdgS",
        "outputId": "015c4966-41bf-481b-aee4-c0831956fd6d"
      },
      "execution_count": 2,
      "outputs": [
        {
          "output_type": "display_data",
          "data": {
            "text/plain": [
              "<Figure size 600x400 with 1 Axes>"
            ],
            "image/png": "[encoded data removed]"
          },
          "metadata": {}
        }
      ]
    },
    {
      "cell_type": "code",
      "source": [
        "import pandas as pd\n",
        "\n",
        "# Load dataset\n",
        "exoplanets = pd.read_csv(\"exoplanets_balanced.csv\")  # Use your actual dataset file\n",
        "\n",
        "# Display dataset shape\n",
        "print(f\"Dataset Shape: {exoplanets.shape}\")\n",
        "\n",
        "# Extract features (excluding the target column)\n",
        "X = exoplanets.iloc[:, 1:]  # Assuming the first column is the target\n",
        "\n",
        "# Print the number of features\n",
        "num_features = X.shape[1]\n",
        "print(f\"Number of Features: {num_features}\")\n"
      ],
      "metadata": {
        "colab": {
          "base_uri": "https://localhost:8080/"
        },
        "id": "V8szVDmBolS1",
        "outputId": "61402950-6ed3-4684-f2b5-5addb3b5929f"
      },
      "execution_count": 8,
      "outputs": [
        {
          "output_type": "stream",
          "name": "stdout",
          "text": [
            "Dataset Shape: (11230, 3198)\n",
            "Number of Features: 3197\n"
          ]
        }
      ]
    },
    {
      "cell_type": "markdown",
      "source": [
        "# Training a Convolutional Autoencoder with Keras Tuner"
      ],
      "metadata": {
        "id": "I2qxnvtWnC-h"
      }
    },
    {
      "cell_type": "markdown",
      "source": [
        "1. Autoencoder Workflow\n",
        "- Purpose of Autoencoder:\n",
        "\n",
        "*Feature Extraction:* The encoder part of the autoencoder learns a compressed, latent representation of the input data (features).\n",
        "Dimensionality Reduction: The latent space (bottleneck layer) represents the data in fewer dimensions while retaining important information.\n",
        "- Encoder:\n",
        "\n",
        "It reduces the input data (e.g., 3000 brightness values per time series) into a lower-dimensional latent representation.\n",
        "The dimensionality of the latent space (e.g., latent_dim = 64, 128, 256) is a hyperparameter that we tune using Keras Tuner.\n",
        "Decoder:\n",
        "\n",
        "It reconstructs the original input data from the latent representation to ensure that the encoder captures meaningful patterns.\n",
        "2. Keras Tuner Workflow\n",
        "- Purpose:\n",
        "- Automatically find the best hyperparameters for the autoencoder.\n",
        "- **Examples of tunable hyperparameters:**\n",
        "- Latent Space Size (latent_dim): Number of dimensions in the bottleneck layer.\n",
        "- Number of Layers: How many Conv1D or Dense layers to include in the encoder and decoder.\n",
        "- Filters and Kernel Sizes: For Conv1D layers, the number of filters and kernel sizes to capture temporal patterns.\n",
        "- Learning Rate: Optimizer learning rate for training.\n",
        "3. What Happens During Tuning?\n",
        "- Keras Tuner runs multiple trials (e.g., 20 trials) with different hyperparameter combinations.\n",
        "- ***For each trial:***\n",
        "- The autoencoder is trained on the data.\n",
        "- The performance is evaluated on the validation set.\n",
        "- The hyperparameter combination with the best validation performance (val_loss) is selected.\n",
        "4. Saving the Best Model\n",
        "- ***After the tuning process:***\n",
        "- The encoder part of the autoencoder (i.e., the feature extraction portion) is saved.\n",
        "- The best hyperparameters are saved for future use."
      ],
      "metadata": {
        "id": "79jK7w5enXmV"
      }
    },
    {
      "cell_type": "code",
      "source": [
        "pip install tensorflow"
      ],
      "metadata": {
        "colab": {
          "base_uri": "https://localhost:8080/"
        },
        "collapsed": true,
        "id": "rfYVUNmznkNW",
        "outputId": "91112b2d-abf7-406a-b69f-1e31179711a7"
      },
      "execution_count": 4,
      "outputs": [
        {
          "output_type": "stream",
          "name": "stdout",
          "text": [
            "Requirement already satisfied: tensorflow in /usr/local/lib/python3.11/dist-packages (2.18.0)\n",
            "Requirement already satisfied: absl-py>=1.0.0 in /usr/local/lib/python3.11/dist-packages (from tensorflow) (1.4.0)\n",
            "Requirement already satisfied: astunparse>=1.6.0 in /usr/local/lib/python3.11/dist-packages (from tensorflow) (1.6.3)\n",
            "Requirement already satisfied: flatbuffers>=24.3.25 in /usr/local/lib/python3.11/dist-packages (from tensorflow) (25.1.24)\n",
            "Requirement already satisfied: gast!=0.5.0,!=0.5.1,!=0.5.2,>=0.2.1 in /usr/local/lib/python3.11/dist-packages (from tensorflow) (0.6.0)\n",
            "Requirement already satisfied: google-pasta>=0.1.1 in /usr/local/lib/python3.11/dist-packages (from tensorflow) (0.2.0)\n",
            "Requirement already satisfied: libclang>=13.0.0 in /usr/local/lib/python3.11/dist-packages (from tensorflow) (18.1.1)\n",
            "Requirement already satisfied: opt-einsum>=2.3.2 in /usr/local/lib/python3.11/dist-packages (from tensorflow) (3.4.0)\n",
            "Requirement already satisfied: packaging in /usr/local/lib/python3.11/dist-packages (from tensorflow) (24.2)\n",
            "Requirement already satisfied: protobuf!=4.21.0,!=4.21.1,!=4.21.2,!=4.21.3,!=4.21.4,!=4.21.5,<6.0.0dev,>=3.20.3 in /usr/local/lib/python3.11/dist-packages (from tensorflow) (4.25.6)\n",
            "Requirement already satisfied: requests<3,>=2.21.0 in /usr/local/lib/python3.11/dist-packages (from tensorflow) (2.32.3)\n",
            "Requirement already satisfied: setuptools in /usr/local/lib/python3.11/dist-packages (from tensorflow) (75.1.0)\n",
            "Requirement already satisfied: six>=1.12.0 in /usr/local/lib/python3.11/dist-packages (from tensorflow) (1.17.0)\n",
            "Requirement already satisfied: termcolor>=1.1.0 in /usr/local/lib/python3.11/dist-packages (from tensorflow) (2.5.0)\n",
            "Requirement already satisfied: typing-extensions>=3.6.6 in /usr/local/lib/python3.11/dist-packages (from tensorflow) (4.12.2)\n",
            "Requirement already satisfied: wrapt>=1.11.0 in /usr/local/lib/python3.11/dist-packages (from tensorflow) (1.17.2)\n",
            "Requirement already satisfied: grpcio<2.0,>=1.24.3 in /usr/local/lib/python3.11/dist-packages (from tensorflow) (1.70.0)\n",
            "Requirement already satisfied: tensorboard<2.19,>=2.18 in /usr/local/lib/python3.11/dist-packages (from tensorflow) (2.18.0)\n",
            "Requirement already satisfied: keras>=3.5.0 in /usr/local/lib/python3.11/dist-packages (from tensorflow) (3.8.0)\n",
            "Requirement already satisfied: numpy<2.1.0,>=1.26.0 in /usr/local/lib/python3.11/dist-packages (from tensorflow) (1.26.4)\n",
            "Requirement already satisfied: h5py>=3.11.0 in /usr/local/lib/python3.11/dist-packages (from tensorflow) (3.12.1)\n",
            "Requirement already satisfied: ml-dtypes<0.5.0,>=0.4.0 in /usr/local/lib/python3.11/dist-packages (from tensorflow) (0.4.1)\n",
            "Requirement already satisfied: tensorflow-io-gcs-filesystem>=0.23.1 in /usr/local/lib/python3.11/dist-packages (from tensorflow) (0.37.1)\n",
            "Requirement already satisfied: wheel<1.0,>=0.23.0 in /usr/local/lib/python3.11/dist-packages (from astunparse>=1.6.0->tensorflow) (0.45.1)\n",
            "Requirement already satisfied: rich in /usr/local/lib/python3.11/dist-packages (from keras>=3.5.0->tensorflow) (13.9.4)\n",
            "Requirement already satisfied: namex in /usr/local/lib/python3.11/dist-packages (from keras>=3.5.0->tensorflow) (0.0.8)\n",
            "Requirement already satisfied: optree in /usr/local/lib/python3.11/dist-packages (from keras>=3.5.0->tensorflow) (0.14.0)\n",
            "Requirement already satisfied: charset-normalizer<4,>=2 in /usr/local/lib/python3.11/dist-packages (from requests<3,>=2.21.0->tensorflow) (3.4.1)\n",
            "Requirement already satisfied: idna<4,>=2.5 in /usr/local/lib/python3.11/dist-packages (from requests<3,>=2.21.0->tensorflow) (3.10)\n",
            "Requirement already satisfied: urllib3<3,>=1.21.1 in /usr/local/lib/python3.11/dist-packages (from requests<3,>=2.21.0->tensorflow) (2.3.0)\n",
            "Requirement already satisfied: certifi>=2017.4.17 in /usr/local/lib/python3.11/dist-packages (from requests<3,>=2.21.0->tensorflow) (2024.12.14)\n",
            "Requirement already satisfied: markdown>=2.6.8 in /usr/local/lib/python3.11/dist-packages (from tensorboard<2.19,>=2.18->tensorflow) (3.7)\n",
            "Requirement already satisfied: tensorboard-data-server<0.8.0,>=0.7.0 in /usr/local/lib/python3.11/dist-packages (from tensorboard<2.19,>=2.18->tensorflow) (0.7.2)\n",
            "Requirement already satisfied: werkzeug>=1.0.1 in /usr/local/lib/python3.11/dist-packages (from tensorboard<2.19,>=2.18->tensorflow) (3.1.3)\n",
            "Requirement already satisfied: MarkupSafe>=2.1.1 in /usr/local/lib/python3.11/dist-packages (from werkzeug>=1.0.1->tensorboard<2.19,>=2.18->tensorflow) (3.0.2)\n",
            "Requirement already satisfied: markdown-it-py>=2.2.0 in /usr/local/lib/python3.11/dist-packages (from rich->keras>=3.5.0->tensorflow) (3.0.0)\n",
            "Requirement already satisfied: pygments<3.0.0,>=2.13.0 in /usr/local/lib/python3.11/dist-packages (from rich->keras>=3.5.0->tensorflow) (2.18.0)\n",
            "Requirement already satisfied: mdurl~=0.1 in /usr/local/lib/python3.11/dist-packages (from markdown-it-py>=2.2.0->rich->keras>=3.5.0->tensorflow) (0.1.2)\n"
          ]
        }
      ]
    },
    {
      "cell_type": "code",
      "source": [
        "pip install keras-tuner"
      ],
      "metadata": {
        "collapsed": true,
        "colab": {
          "base_uri": "https://localhost:8080/"
        },
        "id": "EJBT-PvEnyme",
        "outputId": "bbb9d5de-5e18-4f98-b2e3-35868117c349"
      },
      "execution_count": 6,
      "outputs": [
        {
          "output_type": "stream",
          "name": "stdout",
          "text": [
            "Collecting keras-tuner\n",
            "  Downloading keras_tuner-1.4.7-py3-none-any.whl.metadata (5.4 kB)\n",
            "Requirement already satisfied: keras in /usr/local/lib/python3.11/dist-packages (from keras-tuner) (3.8.0)\n",
            "Requirement already satisfied: packaging in /usr/local/lib/python3.11/dist-packages (from keras-tuner) (24.2)\n",
            "Requirement already satisfied: requests in /usr/local/lib/python3.11/dist-packages (from keras-tuner) (2.32.3)\n",
            "Collecting kt-legacy (from keras-tuner)\n",
            "  Downloading kt_legacy-1.0.5-py3-none-any.whl.metadata (221 bytes)\n",
            "Requirement already satisfied: absl-py in /usr/local/lib/python3.11/dist-packages (from keras->keras-tuner) (1.4.0)\n",
            "Requirement already satisfied: numpy in /usr/local/lib/python3.11/dist-packages (from keras->keras-tuner) (1.26.4)\n",
            "Requirement already satisfied: rich in /usr/local/lib/python3.11/dist-packages (from keras->keras-tuner) (13.9.4)\n",
            "Requirement already satisfied: namex in /usr/local/lib/python3.11/dist-packages (from keras->keras-tuner) (0.0.8)\n",
            "Requirement already satisfied: h5py in /usr/local/lib/python3.11/dist-packages (from keras->keras-tuner) (3.12.1)\n",
            "Requirement already satisfied: optree in /usr/local/lib/python3.11/dist-packages (from keras->keras-tuner) (0.14.0)\n",
            "Requirement already satisfied: ml-dtypes in /usr/local/lib/python3.11/dist-packages (from keras->keras-tuner) (0.4.1)\n",
            "Requirement already satisfied: charset-normalizer<4,>=2 in /usr/local/lib/python3.11/dist-packages (from requests->keras-tuner) (3.4.1)\n",
            "Requirement already satisfied: idna<4,>=2.5 in /usr/local/lib/python3.11/dist-packages (from requests->keras-tuner) (3.10)\n",
            "Requirement already satisfied: urllib3<3,>=1.21.1 in /usr/local/lib/python3.11/dist-packages (from requests->keras-tuner) (2.3.0)\n",
            "Requirement already satisfied: certifi>=2017.4.17 in /usr/local/lib/python3.11/dist-packages (from requests->keras-tuner) (2024.12.14)\n",
            "Requirement already satisfied: typing-extensions>=4.5.0 in /usr/local/lib/python3.11/dist-packages (from optree->keras->keras-tuner) (4.12.2)\n",
            "Requirement already satisfied: markdown-it-py>=2.2.0 in /usr/local/lib/python3.11/dist-packages (from rich->keras->keras-tuner) (3.0.0)\n",
            "Requirement already satisfied: pygments<3.0.0,>=2.13.0 in /usr/local/lib/python3.11/dist-packages (from rich->keras->keras-tuner) (2.18.0)\n",
            "Requirement already satisfied: mdurl~=0.1 in /usr/local/lib/python3.11/dist-packages (from markdown-it-py>=2.2.0->rich->keras->keras-tuner) (0.1.2)\n",
            "Downloading keras_tuner-1.4.7-py3-none-any.whl (129 kB)\n",
            "\u001b[2K   \u001b[90m━━━━━━━━━━━━━━━━━━━━━━━━━━━━━━━━━━━━━━━━\u001b[0m \u001b[32m129.1/129.1 kB\u001b[0m \u001b[31m3.5 MB/s\u001b[0m eta \u001b[36m0:00:00\u001b[0m\n",
            "\u001b[?25hDownloading kt_legacy-1.0.5-py3-none-any.whl (9.6 kB)\n",
            "Installing collected packages: kt-legacy, keras-tuner\n",
            "Successfully installed keras-tuner-1.4.7 kt-legacy-1.0.5\n"
          ]
        }
      ]
    },
    {
      "cell_type": "code",
      "source": [
        "import pandas as pd\n",
        "import numpy as np\n",
        "from sklearn.preprocessing import StandardScaler\n",
        "from sklearn.model_selection import train_test_split\n",
        "from imblearn.over_sampling import SMOTE\n",
        "import tensorflow as tf\n",
        "from tensorflow.keras.layers import Conv1D, Flatten, Dense, Reshape, Input\n",
        "from tensorflow.keras.models import Model\n",
        "import keras_tuner as kt\n",
        "\n",
        "### --- Step 1: Load & Preprocess Data --- ###\n",
        "\n",
        "# Load dataset\n",
        "exoplanets = pd.read_csv(\"exoplanets_balanced.csv\")  # Ensure the correct file is used\n",
        "\n",
        "# Extract features and target\n",
        "X = exoplanets.iloc[:, 1:]  # Features (3197 columns)\n",
        "y = exoplanets.iloc[:, 0]   # Target column\n",
        "\n",
        "# Scale features\n",
        "scaler = StandardScaler()\n",
        "X_scaled = scaler.fit_transform(X)\n",
        "\n",
        "# Reshape data for Conv1D (timesteps=3197, channels=1)\n",
        "X_reshaped = X_scaled.reshape(X_scaled.shape[0], 3197, 1)\n",
        "\n",
        "# Split into training and validation sets (80-20 split)\n",
        "X_train, X_val = train_test_split(X_reshaped, test_size=0.2, random_state=42)\n",
        "\n",
        "print(f\"Training data shape: {X_train.shape}\")\n",
        "print(f\"Validation data shape: {X_val.shape}\")\n",
        "\n",
        "### --- Step 2: Define Autoencoder Model --- ###\n",
        "\n",
        "def build_conv_autoencoder(hp):\n",
        "    \"\"\"Creates a tunable Convolutional Autoencoder model.\"\"\"\n",
        "    input_shape = (3197, 1)  # Time steps and 1 channel\n",
        "\n",
        "    # Encoder\n",
        "    input_layer = Input(shape=input_shape)\n",
        "    x = input_layer\n",
        "    for i in range(hp.Int(\"num_conv_layers\", 1, 3)):  # Tune number of Conv1D layers\n",
        "        x = Conv1D(\n",
        "            filters=hp.Choice(f\"filters_{i}\", [16, 32, 64]),\n",
        "            kernel_size=hp.Choice(f\"kernel_size_{i}\", [3, 5, 7]),\n",
        "            activation=\"relu\",\n",
        "            padding=\"same\"\n",
        "        )(x)\n",
        "    x = Flatten()(x)  # Flatten the encoded features\n",
        "    latent_dim = hp.Choice(\"latent_dim\", [64, 128, 256])  # Bottleneck size\n",
        "    latent_layer = Dense(latent_dim, activation=\"relu\")(x)\n",
        "\n",
        "    # Decoder\n",
        "    x = Dense(3197, activation=\"relu\")(latent_layer)  # Expand back to feature size\n",
        "    x = Reshape((3197, 1))(x)  # Reshape for Conv1D\n",
        "    for i in range(hp.Int(\"num_conv_layers\", 1, 3)):\n",
        "        x = Conv1D(\n",
        "            filters=hp.Choice(f\"filters_decoder_{i}\", [16, 32, 64]),\n",
        "            kernel_size=hp.Choice(f\"kernel_size_decoder_{i}\", [3, 5, 7]),\n",
        "            activation=\"relu\",\n",
        "            padding=\"same\"\n",
        "        )(x)\n",
        "    output_layer = Conv1D(filters=1, kernel_size=1, activation=\"sigmoid\")(x)\n",
        "\n",
        "    # Compile model\n",
        "    autoencoder = Model(input_layer, output_layer)\n",
        "    autoencoder.compile(\n",
        "        optimizer=tf.keras.optimizers.Adam(\n",
        "            learning_rate=hp.Choice(\"learning_rate\", [1e-3, 1e-4, 1e-5])\n",
        "        ),\n",
        "        loss=\"mse\",\n",
        "        metrics=[\"mae\"]  # Include MAE for monitoring accuracy\n",
        "    )\n",
        "\n",
        "    return autoencoder\n",
        "\n",
        "### --- Step 3: Tune the Autoencoder Using Keras Tuner --- ###\n",
        "\n",
        "# Set up the tuner\n",
        "tuner = kt.RandomSearch(\n",
        "    build_conv_autoencoder,\n",
        "    objective=\"val_loss\",\n",
        "    max_trials=20,\n",
        "    executions_per_trial=2,\n",
        "    directory=\"conv_autoencoder_tuning\",\n",
        "    project_name=\"exoplanet_autoencoder\"\n",
        ")\n",
        "\n",
        "# Run the tuning process\n",
        "tuner.search(\n",
        "    X_train, X_train,\n",
        "    epochs=20,\n",
        "    validation_data=(X_val, X_val),\n",
        "    batch_size=32\n",
        ")\n",
        "\n",
        "# Retrieve best model\n",
        "best_hps = tuner.get_best_hyperparameters(num_trials=1)[0]\n",
        "best_model = tuner.get_best_models(num_models=1)[0]\n",
        "\n",
        "print(\"Best hyperparameters:\", best_hps.values)\n",
        "\n",
        "### --- Step 4: Extract and Save Encoder --- ###\n",
        "\n",
        "# Extract the encoder part of the best model\n",
        "encoder = Model(inputs=best_model.input, outputs=best_model.layers[-3].output)  # Adjust index if needed\n",
        "encoder.save(\"best_encoder.h5\")  # Save the encoder\n",
        "best_model.save(\"best_autoencoder.h5\")  # Save the full autoencoder\n",
        "\n",
        "print(\"Best Encoder saved as 'best_encoder.h5'.\")\n",
        "print(\"Best Autoencoder saved as 'best_autoencoder.h5'.\")\n"
      ],
      "metadata": {
        "id": "dtdQI0CCnKdr"
      },
      "execution_count": null,
      "outputs": []
    }
  ]
}